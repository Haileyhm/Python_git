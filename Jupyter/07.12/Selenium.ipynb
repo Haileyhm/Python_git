{
 "cells": [
  {
   "cell_type": "code",
   "execution_count": 40,
   "metadata": {},
   "outputs": [],
   "source": [
    "from selenium import webdriver\n",
    "from bs4 import BeautifulSoup\n",
    "import os\n",
    "from os.path import join, dirname\n",
    "\n",
    "if os.name == 'nt':\n",
    "    os_name = 'nt'\n",
    "elif os.name == 'mac':\n",
    "    os_name = 'mac'\n",
    "else:\n",
    "    os_name = 'linux'\n",
    "\n",
    "if os_name == 'nt':\n",
    "    dirver_loc = \"D:/ChromeDriver/chromedriver.exe\"   #드라이버가 어딨는지 알려주기 위함\n",
    "else:\n",
    "    dirver_loc = \"/home/download/chromedriver/chromedriver.exe\""
   ]
  },
  {
   "cell_type": "code",
   "execution_count": 41,
   "metadata": {},
   "outputs": [],
   "source": [
    "# 크롬 옵션 설정\n",
    "options = webdriver.ChromeOptions()\n",
    "\n",
    "# 헤드리스 설정 시 리눅스 같이 웹화면 없는경우에도 웹페이지 실행가능함\n",
    "#options.add_argument('headless')\n",
    "options.add_argument('window-size=1920x1080')\n",
    "\n",
    "                     #options.add_argument(\"disable-gpu\")\n",
    "# 웹 드라이버 정의\n",
    "driver = webdriver.Chrome(dirver_loc, options=options)"
   ]
  },
  {
   "cell_type": "code",
   "execution_count": 37,
   "metadata": {},
   "outputs": [],
   "source": [
    "# URL 정의\n",
    "base_url = 'https://sparkkorea.com'\n",
    "# UTL 이동\n",
    "driver.get(base_url)"
   ]
  },
  {
   "cell_type": "code",
   "execution_count": 38,
   "metadata": {},
   "outputs": [],
   "source": [
    "# 퀴즈메뉴 클릭_우클릭-copy-copy xpath\n",
    "driver.find_element_by_xpath('//*[@id=\"menu-item-106\"]/a').click() #xpath 는 쌍따옴표를 이용하기 때문에, 감쌀 때 홑따옴표로 감싸"
   ]
  },
  {
   "cell_type": "code",
   "execution_count": null,
   "metadata": {},
   "outputs": [],
   "source": []
  },
  {
   "cell_type": "code",
   "execution_count": 42,
   "metadata": {},
   "outputs": [],
   "source": [
    "# URL 정의\n",
    "adv_url = 'https://www.naver.com'\n",
    "# UTL 이동\n",
    "driver.get(adv_url)"
   ]
  },
  {
   "cell_type": "code",
   "execution_count": null,
   "metadata": {},
   "outputs": [],
   "source": [
    "# 퀴즈메뉴 클릭_우클릭-copy-copy xpath\n",
    "driver.find_element_by_xpath('//*[@id=\"query\"]').send_keys(\"캐나다\") #xpath 는 쌍따옴표를 이용하기 때문에, 감쌀 때 홑따옴표로 감싸"
   ]
  },
  {
   "cell_type": "code",
   "execution_count": null,
   "metadata": {},
   "outputs": [],
   "source": []
  },
  {
   "cell_type": "code",
   "execution_count": null,
   "metadata": {},
   "outputs": [],
   "source": []
  },
  {
   "cell_type": "code",
   "execution_count": null,
   "metadata": {},
   "outputs": [],
   "source": []
  },
  {
   "cell_type": "code",
   "execution_count": null,
   "metadata": {},
   "outputs": [],
   "source": []
  },
  {
   "cell_type": "code",
   "execution_count": null,
   "metadata": {},
   "outputs": [],
   "source": []
  },
  {
   "cell_type": "code",
   "execution_count": null,
   "metadata": {},
   "outputs": [],
   "source": []
  }
 ],
 "metadata": {
  "kernelspec": {
   "display_name": "Python 3",
   "language": "python",
   "name": "python3"
  },
  "language_info": {
   "codemirror_mode": {
    "name": "ipython",
    "version": 3
   },
   "file_extension": ".py",
   "mimetype": "text/x-python",
   "name": "python",
   "nbconvert_exporter": "python",
   "pygments_lexer": "ipython3",
   "version": "3.7.1"
  }
 },
 "nbformat": 4,
 "nbformat_minor": 2
}
