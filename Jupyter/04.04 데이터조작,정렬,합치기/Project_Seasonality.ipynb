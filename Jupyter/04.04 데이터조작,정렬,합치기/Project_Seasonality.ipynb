{
 "cells": [
  {
   "cell_type": "code",
   "execution_count": 1,
   "metadata": {},
   "outputs": [],
   "source": [
    "import pandas as pd"
   ]
  },
  {
   "cell_type": "markdown",
   "metadata": {},
   "source": [
    "## 1.데이터 불러오기"
   ]
  },
  {
   "cell_type": "code",
   "execution_count": 2,
   "metadata": {
    "scrolled": true
   },
   "outputs": [
    {
     "data": {
      "text/html": [
       "<div>\n",
       "<style scoped>\n",
       "    .dataframe tbody tr th:only-of-type {\n",
       "        vertical-align: middle;\n",
       "    }\n",
       "\n",
       "    .dataframe tbody tr th {\n",
       "        vertical-align: top;\n",
       "    }\n",
       "\n",
       "    .dataframe thead th {\n",
       "        text-align: right;\n",
       "    }\n",
       "</style>\n",
       "<table border=\"1\" class=\"dataframe\">\n",
       "  <thead>\n",
       "    <tr style=\"text-align: right;\">\n",
       "      <th></th>\n",
       "      <th>REGIONID</th>\n",
       "      <th>PRODUCT</th>\n",
       "      <th>YEARWEEK</th>\n",
       "      <th>QTY</th>\n",
       "    </tr>\n",
       "  </thead>\n",
       "  <tbody>\n",
       "    <tr>\n",
       "      <th>0</th>\n",
       "      <td>A60</td>\n",
       "      <td>PRODUCT4</td>\n",
       "      <td>201402</td>\n",
       "      <td>71.0</td>\n",
       "    </tr>\n",
       "    <tr>\n",
       "      <th>1</th>\n",
       "      <td>A60</td>\n",
       "      <td>PRODUCT59</td>\n",
       "      <td>201402</td>\n",
       "      <td>22275.0</td>\n",
       "    </tr>\n",
       "    <tr>\n",
       "      <th>2</th>\n",
       "      <td>A60</td>\n",
       "      <td>PRODUCT34</td>\n",
       "      <td>201402</td>\n",
       "      <td>4463.0</td>\n",
       "    </tr>\n",
       "    <tr>\n",
       "      <th>3</th>\n",
       "      <td>A60</td>\n",
       "      <td>PRODUCT47</td>\n",
       "      <td>201402</td>\n",
       "      <td>0.0</td>\n",
       "    </tr>\n",
       "    <tr>\n",
       "      <th>4</th>\n",
       "      <td>A60</td>\n",
       "      <td>PRODUCT56</td>\n",
       "      <td>201402</td>\n",
       "      <td>23.0</td>\n",
       "    </tr>\n",
       "    <tr>\n",
       "      <th>5</th>\n",
       "      <td>A60</td>\n",
       "      <td>PRODUCT57</td>\n",
       "      <td>201402</td>\n",
       "      <td>14.0</td>\n",
       "    </tr>\n",
       "    <tr>\n",
       "      <th>6</th>\n",
       "      <td>A60</td>\n",
       "      <td>PRODUCT12</td>\n",
       "      <td>201402</td>\n",
       "      <td>1186.0</td>\n",
       "    </tr>\n",
       "    <tr>\n",
       "      <th>7</th>\n",
       "      <td>A60</td>\n",
       "      <td>PRODUCT1</td>\n",
       "      <td>201402</td>\n",
       "      <td>7.0</td>\n",
       "    </tr>\n",
       "    <tr>\n",
       "      <th>8</th>\n",
       "      <td>A60</td>\n",
       "      <td>PRODUCT33</td>\n",
       "      <td>201402</td>\n",
       "      <td>101.0</td>\n",
       "    </tr>\n",
       "    <tr>\n",
       "      <th>9</th>\n",
       "      <td>A60</td>\n",
       "      <td>PRODUCT62</td>\n",
       "      <td>201402</td>\n",
       "      <td>336.0</td>\n",
       "    </tr>\n",
       "    <tr>\n",
       "      <th>10</th>\n",
       "      <td>A37</td>\n",
       "      <td>PRODUCT58</td>\n",
       "      <td>201402</td>\n",
       "      <td>0.0</td>\n",
       "    </tr>\n",
       "    <tr>\n",
       "      <th>11</th>\n",
       "      <td>A37</td>\n",
       "      <td>PRODUCT59</td>\n",
       "      <td>201402</td>\n",
       "      <td>11492.0</td>\n",
       "    </tr>\n",
       "    <tr>\n",
       "      <th>12</th>\n",
       "      <td>A37</td>\n",
       "      <td>PRODUCT34</td>\n",
       "      <td>201402</td>\n",
       "      <td>825.0</td>\n",
       "    </tr>\n",
       "    <tr>\n",
       "      <th>13</th>\n",
       "      <td>A31</td>\n",
       "      <td>PRODUCT58</td>\n",
       "      <td>201402</td>\n",
       "      <td>0.0</td>\n",
       "    </tr>\n",
       "    <tr>\n",
       "      <th>14</th>\n",
       "      <td>A31</td>\n",
       "      <td>PRODUCT59</td>\n",
       "      <td>201402</td>\n",
       "      <td>560.0</td>\n",
       "    </tr>\n",
       "    <tr>\n",
       "      <th>15</th>\n",
       "      <td>A31</td>\n",
       "      <td>PRODUCT34</td>\n",
       "      <td>201402</td>\n",
       "      <td>103.0</td>\n",
       "    </tr>\n",
       "    <tr>\n",
       "      <th>16</th>\n",
       "      <td>A04</td>\n",
       "      <td>PRODUCT58</td>\n",
       "      <td>201402</td>\n",
       "      <td>0.0</td>\n",
       "    </tr>\n",
       "    <tr>\n",
       "      <th>17</th>\n",
       "      <td>A04</td>\n",
       "      <td>PRODUCT63</td>\n",
       "      <td>201402</td>\n",
       "      <td>740.0</td>\n",
       "    </tr>\n",
       "    <tr>\n",
       "      <th>18</th>\n",
       "      <td>A04</td>\n",
       "      <td>PRODUCT15</td>\n",
       "      <td>201402</td>\n",
       "      <td>394.0</td>\n",
       "    </tr>\n",
       "    <tr>\n",
       "      <th>19</th>\n",
       "      <td>A04</td>\n",
       "      <td>PRODUCT4</td>\n",
       "      <td>201402</td>\n",
       "      <td>2550.0</td>\n",
       "    </tr>\n",
       "    <tr>\n",
       "      <th>20</th>\n",
       "      <td>A04</td>\n",
       "      <td>PRODUCT16</td>\n",
       "      <td>201402</td>\n",
       "      <td>4.0</td>\n",
       "    </tr>\n",
       "    <tr>\n",
       "      <th>21</th>\n",
       "      <td>A04</td>\n",
       "      <td>PRODUCT59</td>\n",
       "      <td>201402</td>\n",
       "      <td>36549.0</td>\n",
       "    </tr>\n",
       "    <tr>\n",
       "      <th>22</th>\n",
       "      <td>A04</td>\n",
       "      <td>PRODUCT34</td>\n",
       "      <td>201402</td>\n",
       "      <td>4773.0</td>\n",
       "    </tr>\n",
       "    <tr>\n",
       "      <th>23</th>\n",
       "      <td>A04</td>\n",
       "      <td>PRODUCT40</td>\n",
       "      <td>201402</td>\n",
       "      <td>146.0</td>\n",
       "    </tr>\n",
       "    <tr>\n",
       "      <th>24</th>\n",
       "      <td>A04</td>\n",
       "      <td>PRODUCT47</td>\n",
       "      <td>201402</td>\n",
       "      <td>5.0</td>\n",
       "    </tr>\n",
       "    <tr>\n",
       "      <th>25</th>\n",
       "      <td>A04</td>\n",
       "      <td>PRODUCT60</td>\n",
       "      <td>201402</td>\n",
       "      <td>9.0</td>\n",
       "    </tr>\n",
       "    <tr>\n",
       "      <th>26</th>\n",
       "      <td>A04</td>\n",
       "      <td>PRODUCT56</td>\n",
       "      <td>201402</td>\n",
       "      <td>109.0</td>\n",
       "    </tr>\n",
       "    <tr>\n",
       "      <th>27</th>\n",
       "      <td>A04</td>\n",
       "      <td>PRODUCT57</td>\n",
       "      <td>201402</td>\n",
       "      <td>1195.0</td>\n",
       "    </tr>\n",
       "    <tr>\n",
       "      <th>28</th>\n",
       "      <td>A04</td>\n",
       "      <td>PRODUCT12</td>\n",
       "      <td>201402</td>\n",
       "      <td>15028.0</td>\n",
       "    </tr>\n",
       "    <tr>\n",
       "      <th>29</th>\n",
       "      <td>A04</td>\n",
       "      <td>PRODUCT1</td>\n",
       "      <td>201402</td>\n",
       "      <td>1319.0</td>\n",
       "    </tr>\n",
       "    <tr>\n",
       "      <th>...</th>\n",
       "      <td>...</td>\n",
       "      <td>...</td>\n",
       "      <td>...</td>\n",
       "      <td>...</td>\n",
       "    </tr>\n",
       "    <tr>\n",
       "      <th>124628</th>\n",
       "      <td>A16</td>\n",
       "      <td>PRODUCT64</td>\n",
       "      <td>201630</td>\n",
       "      <td>188.0</td>\n",
       "    </tr>\n",
       "    <tr>\n",
       "      <th>124629</th>\n",
       "      <td>A16</td>\n",
       "      <td>PRODUCT48</td>\n",
       "      <td>201630</td>\n",
       "      <td>16.0</td>\n",
       "    </tr>\n",
       "    <tr>\n",
       "      <th>124630</th>\n",
       "      <td>A16</td>\n",
       "      <td>PRODUCT49</td>\n",
       "      <td>201630</td>\n",
       "      <td>9.0</td>\n",
       "    </tr>\n",
       "    <tr>\n",
       "      <th>124631</th>\n",
       "      <td>A16</td>\n",
       "      <td>PRODUCT74</td>\n",
       "      <td>201630</td>\n",
       "      <td>18.0</td>\n",
       "    </tr>\n",
       "    <tr>\n",
       "      <th>124632</th>\n",
       "      <td>A16</td>\n",
       "      <td>PRODUCT40</td>\n",
       "      <td>201630</td>\n",
       "      <td>285.0</td>\n",
       "    </tr>\n",
       "    <tr>\n",
       "      <th>124633</th>\n",
       "      <td>A16</td>\n",
       "      <td>PRODUCT47</td>\n",
       "      <td>201630</td>\n",
       "      <td>155.0</td>\n",
       "    </tr>\n",
       "    <tr>\n",
       "      <th>124634</th>\n",
       "      <td>A16</td>\n",
       "      <td>PRODUCT60</td>\n",
       "      <td>201630</td>\n",
       "      <td>2491.0</td>\n",
       "    </tr>\n",
       "    <tr>\n",
       "      <th>124635</th>\n",
       "      <td>A16</td>\n",
       "      <td>PRODUCT56</td>\n",
       "      <td>201630</td>\n",
       "      <td>2026.0</td>\n",
       "    </tr>\n",
       "    <tr>\n",
       "      <th>124636</th>\n",
       "      <td>A16</td>\n",
       "      <td>PRODUCT12</td>\n",
       "      <td>201630</td>\n",
       "      <td>17067.0</td>\n",
       "    </tr>\n",
       "    <tr>\n",
       "      <th>124637</th>\n",
       "      <td>A16</td>\n",
       "      <td>PRODUCT1</td>\n",
       "      <td>201630</td>\n",
       "      <td>168.0</td>\n",
       "    </tr>\n",
       "    <tr>\n",
       "      <th>124638</th>\n",
       "      <td>A16</td>\n",
       "      <td>PRODUCT41</td>\n",
       "      <td>201630</td>\n",
       "      <td>0.0</td>\n",
       "    </tr>\n",
       "    <tr>\n",
       "      <th>124639</th>\n",
       "      <td>A16</td>\n",
       "      <td>PRODUCT51</td>\n",
       "      <td>201630</td>\n",
       "      <td>0.0</td>\n",
       "    </tr>\n",
       "    <tr>\n",
       "      <th>124640</th>\n",
       "      <td>A16</td>\n",
       "      <td>PRODUCT68</td>\n",
       "      <td>201630</td>\n",
       "      <td>0.0</td>\n",
       "    </tr>\n",
       "    <tr>\n",
       "      <th>124641</th>\n",
       "      <td>A16</td>\n",
       "      <td>PRODUCT33</td>\n",
       "      <td>201630</td>\n",
       "      <td>3887.0</td>\n",
       "    </tr>\n",
       "    <tr>\n",
       "      <th>124642</th>\n",
       "      <td>A16</td>\n",
       "      <td>PRODUCT14</td>\n",
       "      <td>201630</td>\n",
       "      <td>95.0</td>\n",
       "    </tr>\n",
       "    <tr>\n",
       "      <th>124643</th>\n",
       "      <td>A10</td>\n",
       "      <td>PRODUCT2</td>\n",
       "      <td>201630</td>\n",
       "      <td>12570.0</td>\n",
       "    </tr>\n",
       "    <tr>\n",
       "      <th>124644</th>\n",
       "      <td>A10</td>\n",
       "      <td>PRODUCT58</td>\n",
       "      <td>201630</td>\n",
       "      <td>4461.0</td>\n",
       "    </tr>\n",
       "    <tr>\n",
       "      <th>124645</th>\n",
       "      <td>A10</td>\n",
       "      <td>PRODUCT63</td>\n",
       "      <td>201630</td>\n",
       "      <td>4308.0</td>\n",
       "    </tr>\n",
       "    <tr>\n",
       "      <th>124646</th>\n",
       "      <td>A10</td>\n",
       "      <td>PRODUCT15</td>\n",
       "      <td>201630</td>\n",
       "      <td>0.0</td>\n",
       "    </tr>\n",
       "    <tr>\n",
       "      <th>124647</th>\n",
       "      <td>A10</td>\n",
       "      <td>PRODUCT4</td>\n",
       "      <td>201630</td>\n",
       "      <td>3012.0</td>\n",
       "    </tr>\n",
       "    <tr>\n",
       "      <th>124648</th>\n",
       "      <td>A10</td>\n",
       "      <td>PRODUCT16</td>\n",
       "      <td>201630</td>\n",
       "      <td>231.0</td>\n",
       "    </tr>\n",
       "    <tr>\n",
       "      <th>124649</th>\n",
       "      <td>A10</td>\n",
       "      <td>PRODUCT59</td>\n",
       "      <td>201630</td>\n",
       "      <td>231024.0</td>\n",
       "    </tr>\n",
       "    <tr>\n",
       "      <th>124650</th>\n",
       "      <td>A10</td>\n",
       "      <td>PRODUCT34</td>\n",
       "      <td>201630</td>\n",
       "      <td>34436.0</td>\n",
       "    </tr>\n",
       "    <tr>\n",
       "      <th>124651</th>\n",
       "      <td>A10</td>\n",
       "      <td>PRODUCT40</td>\n",
       "      <td>201630</td>\n",
       "      <td>0.0</td>\n",
       "    </tr>\n",
       "    <tr>\n",
       "      <th>124652</th>\n",
       "      <td>A10</td>\n",
       "      <td>PRODUCT47</td>\n",
       "      <td>201630</td>\n",
       "      <td>4.0</td>\n",
       "    </tr>\n",
       "    <tr>\n",
       "      <th>124653</th>\n",
       "      <td>A10</td>\n",
       "      <td>PRODUCT60</td>\n",
       "      <td>201630</td>\n",
       "      <td>824.0</td>\n",
       "    </tr>\n",
       "    <tr>\n",
       "      <th>124654</th>\n",
       "      <td>A10</td>\n",
       "      <td>PRODUCT56</td>\n",
       "      <td>201630</td>\n",
       "      <td>275.0</td>\n",
       "    </tr>\n",
       "    <tr>\n",
       "      <th>124655</th>\n",
       "      <td>A10</td>\n",
       "      <td>PRODUCT61</td>\n",
       "      <td>201630</td>\n",
       "      <td>0.0</td>\n",
       "    </tr>\n",
       "    <tr>\n",
       "      <th>124656</th>\n",
       "      <td>A10</td>\n",
       "      <td>PRODUCT12</td>\n",
       "      <td>201630</td>\n",
       "      <td>15021.0</td>\n",
       "    </tr>\n",
       "    <tr>\n",
       "      <th>124657</th>\n",
       "      <td>A10</td>\n",
       "      <td>PRODUCT1</td>\n",
       "      <td>201630</td>\n",
       "      <td>568.0</td>\n",
       "    </tr>\n",
       "  </tbody>\n",
       "</table>\n",
       "<p>124658 rows × 4 columns</p>\n",
       "</div>"
      ],
      "text/plain": [
       "       REGIONID    PRODUCT  YEARWEEK       QTY\n",
       "0           A60   PRODUCT4    201402      71.0\n",
       "1           A60  PRODUCT59    201402   22275.0\n",
       "2           A60  PRODUCT34    201402    4463.0\n",
       "3           A60  PRODUCT47    201402       0.0\n",
       "4           A60  PRODUCT56    201402      23.0\n",
       "5           A60  PRODUCT57    201402      14.0\n",
       "6           A60  PRODUCT12    201402    1186.0\n",
       "7           A60   PRODUCT1    201402       7.0\n",
       "8           A60  PRODUCT33    201402     101.0\n",
       "9           A60  PRODUCT62    201402     336.0\n",
       "10          A37  PRODUCT58    201402       0.0\n",
       "11          A37  PRODUCT59    201402   11492.0\n",
       "12          A37  PRODUCT34    201402     825.0\n",
       "13          A31  PRODUCT58    201402       0.0\n",
       "14          A31  PRODUCT59    201402     560.0\n",
       "15          A31  PRODUCT34    201402     103.0\n",
       "16          A04  PRODUCT58    201402       0.0\n",
       "17          A04  PRODUCT63    201402     740.0\n",
       "18          A04  PRODUCT15    201402     394.0\n",
       "19          A04   PRODUCT4    201402    2550.0\n",
       "20          A04  PRODUCT16    201402       4.0\n",
       "21          A04  PRODUCT59    201402   36549.0\n",
       "22          A04  PRODUCT34    201402    4773.0\n",
       "23          A04  PRODUCT40    201402     146.0\n",
       "24          A04  PRODUCT47    201402       5.0\n",
       "25          A04  PRODUCT60    201402       9.0\n",
       "26          A04  PRODUCT56    201402     109.0\n",
       "27          A04  PRODUCT57    201402    1195.0\n",
       "28          A04  PRODUCT12    201402   15028.0\n",
       "29          A04   PRODUCT1    201402    1319.0\n",
       "...         ...        ...       ...       ...\n",
       "124628      A16  PRODUCT64    201630     188.0\n",
       "124629      A16  PRODUCT48    201630      16.0\n",
       "124630      A16  PRODUCT49    201630       9.0\n",
       "124631      A16  PRODUCT74    201630      18.0\n",
       "124632      A16  PRODUCT40    201630     285.0\n",
       "124633      A16  PRODUCT47    201630     155.0\n",
       "124634      A16  PRODUCT60    201630    2491.0\n",
       "124635      A16  PRODUCT56    201630    2026.0\n",
       "124636      A16  PRODUCT12    201630   17067.0\n",
       "124637      A16   PRODUCT1    201630     168.0\n",
       "124638      A16  PRODUCT41    201630       0.0\n",
       "124639      A16  PRODUCT51    201630       0.0\n",
       "124640      A16  PRODUCT68    201630       0.0\n",
       "124641      A16  PRODUCT33    201630    3887.0\n",
       "124642      A16  PRODUCT14    201630      95.0\n",
       "124643      A10   PRODUCT2    201630   12570.0\n",
       "124644      A10  PRODUCT58    201630    4461.0\n",
       "124645      A10  PRODUCT63    201630    4308.0\n",
       "124646      A10  PRODUCT15    201630       0.0\n",
       "124647      A10   PRODUCT4    201630    3012.0\n",
       "124648      A10  PRODUCT16    201630     231.0\n",
       "124649      A10  PRODUCT59    201630  231024.0\n",
       "124650      A10  PRODUCT34    201630   34436.0\n",
       "124651      A10  PRODUCT40    201630       0.0\n",
       "124652      A10  PRODUCT47    201630       4.0\n",
       "124653      A10  PRODUCT60    201630     824.0\n",
       "124654      A10  PRODUCT56    201630     275.0\n",
       "124655      A10  PRODUCT61    201630       0.0\n",
       "124656      A10  PRODUCT12    201630   15021.0\n",
       "124657      A10   PRODUCT1    201630     568.0\n",
       "\n",
       "[124658 rows x 4 columns]"
      ]
     },
     "execution_count": 2,
     "metadata": {},
     "output_type": "execute_result"
    }
   ],
   "source": [
    "selloutData = pd.read_csv(\"../dataset/kopo_channel_seasonality_new.csv\")\n",
    "selloutData"
   ]
  },
  {
   "cell_type": "markdown",
   "metadata": {},
   "source": [
    "## 2.데이터 통합"
   ]
  },
  {
   "cell_type": "code",
   "execution_count": 3,
   "metadata": {},
   "outputs": [
    {
     "data": {
      "text/plain": [
       "REGIONID     object\n",
       "PRODUCT      object\n",
       "YEARWEEK      int64\n",
       "QTY         float64\n",
       "dtype: object"
      ]
     },
     "execution_count": 3,
     "metadata": {},
     "output_type": "execute_result"
    }
   ],
   "source": [
    "selloutData.dtypes"
   ]
  },
  {
   "cell_type": "code",
   "execution_count": 4,
   "metadata": {},
   "outputs": [],
   "source": [
    "selloutData = selloutData.astype(str)"
   ]
  },
  {
   "cell_type": "code",
   "execution_count": 5,
   "metadata": {},
   "outputs": [],
   "source": [
    "selloutData[\"QTY\"] = selloutData[\"QTY\"].astype(float)"
   ]
  },
  {
   "cell_type": "code",
   "execution_count": 6,
   "metadata": {},
   "outputs": [
    {
     "data": {
      "text/plain": [
       "REGIONID     object\n",
       "PRODUCT      object\n",
       "YEARWEEK     object\n",
       "QTY         float64\n",
       "dtype: object"
      ]
     },
     "execution_count": 6,
     "metadata": {},
     "output_type": "execute_result"
    }
   ],
   "source": [
    "selloutData.dtypes"
   ]
  },
  {
   "cell_type": "code",
   "execution_count": 7,
   "metadata": {},
   "outputs": [
    {
     "data": {
      "text/html": [
       "<div>\n",
       "<style scoped>\n",
       "    .dataframe tbody tr th:only-of-type {\n",
       "        vertical-align: middle;\n",
       "    }\n",
       "\n",
       "    .dataframe tbody tr th {\n",
       "        vertical-align: top;\n",
       "    }\n",
       "\n",
       "    .dataframe thead th {\n",
       "        text-align: right;\n",
       "    }\n",
       "</style>\n",
       "<table border=\"1\" class=\"dataframe\">\n",
       "  <thead>\n",
       "    <tr style=\"text-align: right;\">\n",
       "      <th></th>\n",
       "      <th>REGIONID</th>\n",
       "      <th>PRODUCT</th>\n",
       "      <th>YEARWEEK</th>\n",
       "      <th>QTY</th>\n",
       "    </tr>\n",
       "  </thead>\n",
       "  <tbody>\n",
       "    <tr>\n",
       "      <th>0</th>\n",
       "      <td>A60</td>\n",
       "      <td>PRODUCT4</td>\n",
       "      <td>201402</td>\n",
       "      <td>71.0</td>\n",
       "    </tr>\n",
       "    <tr>\n",
       "      <th>1</th>\n",
       "      <td>A60</td>\n",
       "      <td>PRODUCT59</td>\n",
       "      <td>201402</td>\n",
       "      <td>22275.0</td>\n",
       "    </tr>\n",
       "  </tbody>\n",
       "</table>\n",
       "</div>"
      ],
      "text/plain": [
       "  REGIONID    PRODUCT YEARWEEK      QTY\n",
       "0      A60   PRODUCT4   201402     71.0\n",
       "1      A60  PRODUCT59   201402  22275.0"
      ]
     },
     "execution_count": 7,
     "metadata": {},
     "output_type": "execute_result"
    }
   ],
   "source": [
    "selloutData[[\"REGIONID\",\"PRODUCT\"]]\n",
    "selloutData.head(2)"
   ]
  },
  {
   "cell_type": "code",
   "execution_count": 8,
   "metadata": {},
   "outputs": [
    {
     "data": {
      "text/html": [
       "<div>\n",
       "<style scoped>\n",
       "    .dataframe tbody tr th:only-of-type {\n",
       "        vertical-align: middle;\n",
       "    }\n",
       "\n",
       "    .dataframe tbody tr th {\n",
       "        vertical-align: top;\n",
       "    }\n",
       "\n",
       "    .dataframe thead th {\n",
       "        text-align: right;\n",
       "    }\n",
       "</style>\n",
       "<table border=\"1\" class=\"dataframe\">\n",
       "  <thead>\n",
       "    <tr style=\"text-align: right;\">\n",
       "      <th></th>\n",
       "      <th>CUSTOMERCODE</th>\n",
       "      <th>STATENAME</th>\n",
       "      <th>ST</th>\n",
       "      <th>GENDER</th>\n",
       "      <th>DOB</th>\n",
       "      <th>GENDER1</th>\n",
       "      <th>EMAIL</th>\n",
       "      <th>FEST_CNT</th>\n",
       "      <th>TOTAL_AMOUNT</th>\n",
       "      <th>AC_AMOUNT</th>\n",
       "      <th>AV_AMOUNT</th>\n",
       "      <th>HA_AMOUNT</th>\n",
       "      <th>EMI_CE_AMOUNT</th>\n",
       "      <th>IS_HIGHEND</th>\n",
       "      <th>CNT_VIST</th>\n",
       "      <th>GAP_VISIT</th>\n",
       "    </tr>\n",
       "  </thead>\n",
       "  <tbody>\n",
       "    <tr>\n",
       "      <th>0</th>\n",
       "      <td>1503989</td>\n",
       "      <td>State2</td>\n",
       "      <td>2</td>\n",
       "      <td>Male</td>\n",
       "      <td>0</td>\n",
       "      <td>1</td>\n",
       "      <td>1</td>\n",
       "      <td>0</td>\n",
       "      <td>30300</td>\n",
       "      <td>0</td>\n",
       "      <td>30300</td>\n",
       "      <td>0</td>\n",
       "      <td>0</td>\n",
       "      <td>0</td>\n",
       "      <td>1</td>\n",
       "      <td>0</td>\n",
       "    </tr>\n",
       "    <tr>\n",
       "      <th>1</th>\n",
       "      <td>1190338</td>\n",
       "      <td>State2</td>\n",
       "      <td>2</td>\n",
       "      <td>Male</td>\n",
       "      <td>0</td>\n",
       "      <td>1</td>\n",
       "      <td>0</td>\n",
       "      <td>1</td>\n",
       "      <td>46500</td>\n",
       "      <td>0</td>\n",
       "      <td>46500</td>\n",
       "      <td>0</td>\n",
       "      <td>0</td>\n",
       "      <td>0</td>\n",
       "      <td>1</td>\n",
       "      <td>0</td>\n",
       "    </tr>\n",
       "  </tbody>\n",
       "</table>\n",
       "</div>"
      ],
      "text/plain": [
       "   CUSTOMERCODE STATENAME  ST GENDER  DOB  GENDER1  EMAIL  FEST_CNT  \\\n",
       "0       1503989    State2   2   Male    0        1      1         0   \n",
       "1       1190338    State2   2   Male    0        1      0         1   \n",
       "\n",
       "   TOTAL_AMOUNT  AC_AMOUNT  AV_AMOUNT  HA_AMOUNT  EMI_CE_AMOUNT  IS_HIGHEND  \\\n",
       "0         30300          0      30300          0              0           0   \n",
       "1         46500          0      46500          0              0           0   \n",
       "\n",
       "   CNT_VIST  GAP_VISIT  \n",
       "0         1          0  \n",
       "1         1          0  "
      ]
     },
     "execution_count": 8,
     "metadata": {},
     "output_type": "execute_result"
    }
   ],
   "source": [
    "cuData = pd.read_csv(\"../dataset/kopo_customerdata.csv\") \n",
    "cuData.head(2)"
   ]
  },
  {
   "cell_type": "code",
   "execution_count": 9,
   "metadata": {},
   "outputs": [
    {
     "data": {
      "text/html": [
       "<div>\n",
       "<style scoped>\n",
       "    .dataframe tbody tr th:only-of-type {\n",
       "        vertical-align: middle;\n",
       "    }\n",
       "\n",
       "    .dataframe tbody tr th {\n",
       "        vertical-align: top;\n",
       "    }\n",
       "\n",
       "    .dataframe thead th {\n",
       "        text-align: right;\n",
       "    }\n",
       "</style>\n",
       "<table border=\"1\" class=\"dataframe\">\n",
       "  <thead>\n",
       "    <tr style=\"text-align: right;\">\n",
       "      <th></th>\n",
       "      <th>CUSTOMERCODE</th>\n",
       "      <th>STATENAME</th>\n",
       "      <th>GENDER</th>\n",
       "      <th>TOTAL_AMOUNT</th>\n",
       "    </tr>\n",
       "  </thead>\n",
       "  <tbody>\n",
       "    <tr>\n",
       "      <th>0</th>\n",
       "      <td>1503989</td>\n",
       "      <td>State2</td>\n",
       "      <td>Male</td>\n",
       "      <td>30300</td>\n",
       "    </tr>\n",
       "    <tr>\n",
       "      <th>1</th>\n",
       "      <td>1190338</td>\n",
       "      <td>State2</td>\n",
       "      <td>Male</td>\n",
       "      <td>46500</td>\n",
       "    </tr>\n",
       "    <tr>\n",
       "      <th>2</th>\n",
       "      <td>1424715</td>\n",
       "      <td>State2</td>\n",
       "      <td>Female</td>\n",
       "      <td>22700</td>\n",
       "    </tr>\n",
       "  </tbody>\n",
       "</table>\n",
       "</div>"
      ],
      "text/plain": [
       "   CUSTOMERCODE STATENAME  GENDER  TOTAL_AMOUNT\n",
       "0       1503989    State2    Male         30300\n",
       "1       1190338    State2    Male         46500\n",
       "2       1424715    State2  Female         22700"
      ]
     },
     "execution_count": 9,
     "metadata": {},
     "output_type": "execute_result"
    }
   ],
   "source": [
    "cuData.filter(items=['CUSTOMERCODE','STATENAME','GENDER','TOTAL_AMOUNT']).head(3)"
   ]
  },
  {
   "cell_type": "code",
   "execution_count": 10,
   "metadata": {},
   "outputs": [
    {
     "data": {
      "text/html": [
       "<div>\n",
       "<style scoped>\n",
       "    .dataframe tbody tr th:only-of-type {\n",
       "        vertical-align: middle;\n",
       "    }\n",
       "\n",
       "    .dataframe tbody tr th {\n",
       "        vertical-align: top;\n",
       "    }\n",
       "\n",
       "    .dataframe thead th {\n",
       "        text-align: right;\n",
       "    }\n",
       "</style>\n",
       "<table border=\"1\" class=\"dataframe\">\n",
       "  <thead>\n",
       "    <tr style=\"text-align: right;\">\n",
       "      <th></th>\n",
       "      <th>CUSTOMERCODE</th>\n",
       "      <th>STATENAME</th>\n",
       "      <th>ST</th>\n",
       "      <th>GENDER</th>\n",
       "      <th>DOB</th>\n",
       "      <th>GENDER1</th>\n",
       "      <th>EMAIL</th>\n",
       "      <th>FEST_CNT</th>\n",
       "      <th>TOTAL_AMOUNT</th>\n",
       "      <th>AC_AMOUNT</th>\n",
       "      <th>AV_AMOUNT</th>\n",
       "      <th>HA_AMOUNT</th>\n",
       "      <th>EMI_CE_AMOUNT</th>\n",
       "      <th>IS_HIGHEND</th>\n",
       "      <th>CNT_VIST</th>\n",
       "      <th>GAP_VISIT</th>\n",
       "    </tr>\n",
       "  </thead>\n",
       "  <tbody>\n",
       "    <tr>\n",
       "      <th>0</th>\n",
       "      <td>1503989</td>\n",
       "      <td>State2</td>\n",
       "      <td>2</td>\n",
       "      <td>Male</td>\n",
       "      <td>0</td>\n",
       "      <td>1</td>\n",
       "      <td>1</td>\n",
       "      <td>0</td>\n",
       "      <td>30300</td>\n",
       "      <td>0</td>\n",
       "      <td>30300</td>\n",
       "      <td>0</td>\n",
       "      <td>0</td>\n",
       "      <td>0</td>\n",
       "      <td>1</td>\n",
       "      <td>0</td>\n",
       "    </tr>\n",
       "  </tbody>\n",
       "</table>\n",
       "</div>"
      ],
      "text/plain": [
       "   CUSTOMERCODE STATENAME  ST GENDER  DOB  GENDER1  EMAIL  FEST_CNT  \\\n",
       "0       1503989    State2   2   Male    0        1      1         0   \n",
       "\n",
       "   TOTAL_AMOUNT  AC_AMOUNT  AV_AMOUNT  HA_AMOUNT  EMI_CE_AMOUNT  IS_HIGHEND  \\\n",
       "0         30300          0      30300          0              0           0   \n",
       "\n",
       "   CNT_VIST  GAP_VISIT  \n",
       "0         1          0  "
      ]
     },
     "execution_count": 10,
     "metadata": {},
     "output_type": "execute_result"
    }
   ],
   "source": [
    "cuData.iloc[0:1,:]"
   ]
  },
  {
   "cell_type": "markdown",
   "metadata": {},
   "source": [
    "## 3.인덱스활용하여 조회하기"
   ]
  },
  {
   "cell_type": "code",
   "execution_count": 11,
   "metadata": {},
   "outputs": [
    {
     "data": {
      "text/html": [
       "<div>\n",
       "<style scoped>\n",
       "    .dataframe tbody tr th:only-of-type {\n",
       "        vertical-align: middle;\n",
       "    }\n",
       "\n",
       "    .dataframe tbody tr th {\n",
       "        vertical-align: top;\n",
       "    }\n",
       "\n",
       "    .dataframe thead th {\n",
       "        text-align: right;\n",
       "    }\n",
       "</style>\n",
       "<table border=\"1\" class=\"dataframe\">\n",
       "  <thead>\n",
       "    <tr style=\"text-align: right;\">\n",
       "      <th></th>\n",
       "      <th>CUSTOMERCODE</th>\n",
       "      <th>STATENAME</th>\n",
       "      <th>ST</th>\n",
       "      <th>GENDER</th>\n",
       "      <th>DOB</th>\n",
       "    </tr>\n",
       "  </thead>\n",
       "  <tbody>\n",
       "    <tr>\n",
       "      <th>0</th>\n",
       "      <td>1503989</td>\n",
       "      <td>State2</td>\n",
       "      <td>2</td>\n",
       "      <td>Male</td>\n",
       "      <td>0</td>\n",
       "    </tr>\n",
       "    <tr>\n",
       "      <th>1</th>\n",
       "      <td>1190338</td>\n",
       "      <td>State2</td>\n",
       "      <td>2</td>\n",
       "      <td>Male</td>\n",
       "      <td>0</td>\n",
       "    </tr>\n",
       "  </tbody>\n",
       "</table>\n",
       "</div>"
      ],
      "text/plain": [
       "   CUSTOMERCODE STATENAME  ST GENDER  DOB\n",
       "0       1503989    State2   2   Male    0\n",
       "1       1190338    State2   2   Male    0"
      ]
     },
     "execution_count": 11,
     "metadata": {},
     "output_type": "execute_result"
    }
   ],
   "source": [
    "cuData.iloc[0:2,0:5]"
   ]
  },
  {
   "cell_type": "code",
   "execution_count": 12,
   "metadata": {},
   "outputs": [
    {
     "data": {
      "text/plain": [
       "1"
      ]
     },
     "execution_count": 12,
     "metadata": {},
     "output_type": "execute_result"
    }
   ],
   "source": [
    "##특정 컬럼의 인덱스 조회\n",
    "cuData.columns.get_loc(\"STATENAME\")"
   ]
  },
  {
   "cell_type": "code",
   "execution_count": 13,
   "metadata": {},
   "outputs": [],
   "source": [
    "stColNo = cuData.columns.get_loc(\"STATENAME\")"
   ]
  },
  {
   "cell_type": "code",
   "execution_count": 14,
   "metadata": {},
   "outputs": [],
   "source": [
    "genColNo = cuData.columns.get_loc(\"GENDER\")"
   ]
  },
  {
   "cell_type": "code",
   "execution_count": 15,
   "metadata": {},
   "outputs": [
    {
     "data": {
      "text/plain": [
       "0      Male\n",
       "1      Male\n",
       "2    Female\n",
       "3      Male\n",
       "4      Male\n",
       "5      Male\n",
       "Name: GENDER, dtype: object"
      ]
     },
     "execution_count": 15,
     "metadata": {},
     "output_type": "execute_result"
    }
   ],
   "source": [
    "cuData.iloc[0:6,genColNo]"
   ]
  },
  {
   "cell_type": "code",
   "execution_count": 16,
   "metadata": {},
   "outputs": [
    {
     "data": {
      "text/html": [
       "<div>\n",
       "<style scoped>\n",
       "    .dataframe tbody tr th:only-of-type {\n",
       "        vertical-align: middle;\n",
       "    }\n",
       "\n",
       "    .dataframe tbody tr th {\n",
       "        vertical-align: top;\n",
       "    }\n",
       "\n",
       "    .dataframe thead th {\n",
       "        text-align: right;\n",
       "    }\n",
       "</style>\n",
       "<table border=\"1\" class=\"dataframe\">\n",
       "  <thead>\n",
       "    <tr style=\"text-align: right;\">\n",
       "      <th></th>\n",
       "      <th>STATENAME</th>\n",
       "      <th>GENDER</th>\n",
       "    </tr>\n",
       "  </thead>\n",
       "  <tbody>\n",
       "    <tr>\n",
       "      <th>0</th>\n",
       "      <td>State2</td>\n",
       "      <td>Male</td>\n",
       "    </tr>\n",
       "    <tr>\n",
       "      <th>1</th>\n",
       "      <td>State2</td>\n",
       "      <td>Male</td>\n",
       "    </tr>\n",
       "    <tr>\n",
       "      <th>2</th>\n",
       "      <td>State2</td>\n",
       "      <td>Female</td>\n",
       "    </tr>\n",
       "    <tr>\n",
       "      <th>3</th>\n",
       "      <td>State2</td>\n",
       "      <td>Male</td>\n",
       "    </tr>\n",
       "    <tr>\n",
       "      <th>4</th>\n",
       "      <td>State2</td>\n",
       "      <td>Male</td>\n",
       "    </tr>\n",
       "  </tbody>\n",
       "</table>\n",
       "</div>"
      ],
      "text/plain": [
       "  STATENAME  GENDER\n",
       "0    State2    Male\n",
       "1    State2    Male\n",
       "2    State2  Female\n",
       "3    State2    Male\n",
       "4    State2    Male"
      ]
     },
     "execution_count": 16,
     "metadata": {},
     "output_type": "execute_result"
    }
   ],
   "source": [
    "#컬럼 검색을 리스트형으로 _ 근데 이렇게 하면 컬럼이 바뀌면 문제가 생김\n",
    "cuData.iloc[0:5,[1,3]]"
   ]
  },
  {
   "cell_type": "code",
   "execution_count": 17,
   "metadata": {},
   "outputs": [
    {
     "data": {
      "text/html": [
       "<div>\n",
       "<style scoped>\n",
       "    .dataframe tbody tr th:only-of-type {\n",
       "        vertical-align: middle;\n",
       "    }\n",
       "\n",
       "    .dataframe tbody tr th {\n",
       "        vertical-align: top;\n",
       "    }\n",
       "\n",
       "    .dataframe thead th {\n",
       "        text-align: right;\n",
       "    }\n",
       "</style>\n",
       "<table border=\"1\" class=\"dataframe\">\n",
       "  <thead>\n",
       "    <tr style=\"text-align: right;\">\n",
       "      <th></th>\n",
       "      <th>STATENAME</th>\n",
       "      <th>GENDER</th>\n",
       "    </tr>\n",
       "  </thead>\n",
       "  <tbody>\n",
       "    <tr>\n",
       "      <th>0</th>\n",
       "      <td>State2</td>\n",
       "      <td>Male</td>\n",
       "    </tr>\n",
       "    <tr>\n",
       "      <th>1</th>\n",
       "      <td>State2</td>\n",
       "      <td>Male</td>\n",
       "    </tr>\n",
       "    <tr>\n",
       "      <th>2</th>\n",
       "      <td>State2</td>\n",
       "      <td>Female</td>\n",
       "    </tr>\n",
       "  </tbody>\n",
       "</table>\n",
       "</div>"
      ],
      "text/plain": [
       "  STATENAME  GENDER\n",
       "0    State2    Male\n",
       "1    State2    Male\n",
       "2    State2  Female"
      ]
     },
     "execution_count": 17,
     "metadata": {},
     "output_type": "execute_result"
    }
   ],
   "source": [
    "cuData.iloc[0:3,[stColNo,genColNo]]"
   ]
  },
  {
   "cell_type": "markdown",
   "metadata": {},
   "source": [
    "## 4.이상데이터 정제 후 특정값을 바꿔서 새로운 컬럼에 넣기"
   ]
  },
  {
   "cell_type": "code",
   "execution_count": 18,
   "metadata": {},
   "outputs": [],
   "source": [
    "import numpy as np"
   ]
  },
  {
   "cell_type": "code",
   "execution_count": 19,
   "metadata": {},
   "outputs": [
    {
     "data": {
      "text/html": [
       "<div>\n",
       "<style scoped>\n",
       "    .dataframe tbody tr th:only-of-type {\n",
       "        vertical-align: middle;\n",
       "    }\n",
       "\n",
       "    .dataframe tbody tr th {\n",
       "        vertical-align: top;\n",
       "    }\n",
       "\n",
       "    .dataframe thead th {\n",
       "        text-align: right;\n",
       "    }\n",
       "</style>\n",
       "<table border=\"1\" class=\"dataframe\">\n",
       "  <thead>\n",
       "    <tr style=\"text-align: right;\">\n",
       "      <th></th>\n",
       "      <th>REGIONID</th>\n",
       "      <th>PRODUCT</th>\n",
       "      <th>YEARWEEK</th>\n",
       "      <th>QTY</th>\n",
       "    </tr>\n",
       "  </thead>\n",
       "  <tbody>\n",
       "    <tr>\n",
       "      <th>0</th>\n",
       "      <td>A60</td>\n",
       "      <td>PRODUCT4</td>\n",
       "      <td>201402</td>\n",
       "      <td>71.0</td>\n",
       "    </tr>\n",
       "    <tr>\n",
       "      <th>1</th>\n",
       "      <td>A60</td>\n",
       "      <td>PRODUCT59</td>\n",
       "      <td>201402</td>\n",
       "      <td>22275.0</td>\n",
       "    </tr>\n",
       "  </tbody>\n",
       "</table>\n",
       "</div>"
      ],
      "text/plain": [
       "  REGIONID    PRODUCT YEARWEEK      QTY\n",
       "0      A60   PRODUCT4   201402     71.0\n",
       "1      A60  PRODUCT59   201402  22275.0"
      ]
     },
     "execution_count": 19,
     "metadata": {},
     "output_type": "execute_result"
    }
   ],
   "source": [
    "selloutData.head(2)"
   ]
  },
  {
   "cell_type": "code",
   "execution_count": 20,
   "metadata": {},
   "outputs": [
    {
     "data": {
      "text/html": [
       "<div>\n",
       "<style scoped>\n",
       "    .dataframe tbody tr th:only-of-type {\n",
       "        vertical-align: middle;\n",
       "    }\n",
       "\n",
       "    .dataframe tbody tr th {\n",
       "        vertical-align: top;\n",
       "    }\n",
       "\n",
       "    .dataframe thead th {\n",
       "        text-align: right;\n",
       "    }\n",
       "</style>\n",
       "<table border=\"1\" class=\"dataframe\">\n",
       "  <thead>\n",
       "    <tr style=\"text-align: right;\">\n",
       "      <th></th>\n",
       "      <th>REGIONID</th>\n",
       "      <th>PRODUCT</th>\n",
       "      <th>YEARWEEK</th>\n",
       "      <th>QTY</th>\n",
       "      <th>QTY_NEW</th>\n",
       "    </tr>\n",
       "  </thead>\n",
       "  <tbody>\n",
       "    <tr>\n",
       "      <th>0</th>\n",
       "      <td>A60</td>\n",
       "      <td>PRODUCT4</td>\n",
       "      <td>201402</td>\n",
       "      <td>71.0</td>\n",
       "      <td>71.0</td>\n",
       "    </tr>\n",
       "  </tbody>\n",
       "</table>\n",
       "</div>"
      ],
      "text/plain": [
       "  REGIONID   PRODUCT YEARWEEK   QTY  QTY_NEW\n",
       "0      A60  PRODUCT4   201402  71.0     71.0"
      ]
     },
     "execution_count": 20,
     "metadata": {},
     "output_type": "execute_result"
    }
   ],
   "source": [
    "#실습1 반품데이터처리, 반품되어 재고가 마이너스인 데이터를 없애고 QTY_NEW 컬럼 생성\n",
    "selloutData[\"QTY_NEW\"] = np.where(selloutData[\"QTY\"] < 0,0,selloutData[\"QTY\"])\n",
    "selloutData.head(1)"
   ]
  },
  {
   "cell_type": "code",
   "execution_count": 21,
   "metadata": {
    "scrolled": true
   },
   "outputs": [
    {
     "data": {
      "text/plain": [
       "REGIONID     object\n",
       "PRODUCT      object\n",
       "YEARWEEK     object\n",
       "QTY         float64\n",
       "QTY_NEW     float64\n",
       "dtype: object"
      ]
     },
     "execution_count": 21,
     "metadata": {},
     "output_type": "execute_result"
    }
   ],
   "source": [
    "#실습2_YEAR, WEEK 컬럼 생성 후 refinedSelloutData 변수에 담기 \n",
    "selloutData.dtypes"
   ]
  },
  {
   "cell_type": "code",
   "execution_count": 22,
   "metadata": {},
   "outputs": [
    {
     "data": {
      "text/html": [
       "<div>\n",
       "<style scoped>\n",
       "    .dataframe tbody tr th:only-of-type {\n",
       "        vertical-align: middle;\n",
       "    }\n",
       "\n",
       "    .dataframe tbody tr th {\n",
       "        vertical-align: top;\n",
       "    }\n",
       "\n",
       "    .dataframe thead th {\n",
       "        text-align: right;\n",
       "    }\n",
       "</style>\n",
       "<table border=\"1\" class=\"dataframe\">\n",
       "  <thead>\n",
       "    <tr style=\"text-align: right;\">\n",
       "      <th></th>\n",
       "      <th>REGIONID</th>\n",
       "      <th>PRODUCT</th>\n",
       "      <th>YEARWEEK</th>\n",
       "      <th>QTY</th>\n",
       "      <th>QTY_NEW</th>\n",
       "      <th>YEAR</th>\n",
       "      <th>WEEK</th>\n",
       "    </tr>\n",
       "  </thead>\n",
       "  <tbody>\n",
       "    <tr>\n",
       "      <th>0</th>\n",
       "      <td>A60</td>\n",
       "      <td>PRODUCT4</td>\n",
       "      <td>201402</td>\n",
       "      <td>71.0</td>\n",
       "      <td>71.0</td>\n",
       "      <td>2014</td>\n",
       "      <td>02</td>\n",
       "    </tr>\n",
       "  </tbody>\n",
       "</table>\n",
       "</div>"
      ],
      "text/plain": [
       "  REGIONID   PRODUCT YEARWEEK   QTY  QTY_NEW  YEAR WEEK\n",
       "0      A60  PRODUCT4   201402  71.0     71.0  2014   02"
      ]
     },
     "execution_count": 22,
     "metadata": {},
     "output_type": "execute_result"
    }
   ],
   "source": [
    "#실습2-1, YEAR, WEEK 컬럼 생성\n",
    "selloutData[\"YEAR\"] = selloutData.YEARWEEK.str[0:4]\n",
    "selloutData[\"WEEK\"]=selloutData.YEARWEEK.str[4:6]\n",
    "selloutData.head(1)"
   ]
  },
  {
   "cell_type": "code",
   "execution_count": 23,
   "metadata": {},
   "outputs": [],
   "source": [
    "#실습2-2, 교수님 방법!!! _ WEEK가 52 이하인 데이터 조회함과 동시에 refinedSelloutData 변수에 담기 \n",
    "# 비교할 때만 자료형을 바꾸는 방법\n",
    "refinedSelloutData = selloutData[(selloutData.WEEK.astype(float) <= 52)]"
   ]
  },
  {
   "cell_type": "code",
   "execution_count": 24,
   "metadata": {},
   "outputs": [
    {
     "data": {
      "text/plain": [
       "REGIONID     object\n",
       "PRODUCT      object\n",
       "YEARWEEK     object\n",
       "QTY         float64\n",
       "QTY_NEW     float64\n",
       "YEAR         object\n",
       "WEEK         object\n",
       "dtype: object"
      ]
     },
     "execution_count": 24,
     "metadata": {},
     "output_type": "execute_result"
    }
   ],
   "source": [
    "refinedSelloutData.dtypes"
   ]
  },
  {
   "cell_type": "code",
   "execution_count": 25,
   "metadata": {},
   "outputs": [],
   "source": [
    "# 계속 바꾸겠다\n",
    "refinedSelloutData = selloutData[selloutData[\"WEEK\"].astype(float) <= 52]"
   ]
  },
  {
   "cell_type": "code",
   "execution_count": 26,
   "metadata": {},
   "outputs": [
    {
     "data": {
      "text/plain": [
       "REGIONID     object\n",
       "PRODUCT      object\n",
       "YEARWEEK     object\n",
       "QTY         float64\n",
       "QTY_NEW     float64\n",
       "YEAR         object\n",
       "WEEK         object\n",
       "dtype: object"
      ]
     },
     "execution_count": 26,
     "metadata": {},
     "output_type": "execute_result"
    }
   ],
   "source": [
    "refinedSelloutData.dtypes"
   ]
  },
  {
   "cell_type": "code",
   "execution_count": 27,
   "metadata": {},
   "outputs": [
    {
     "data": {
      "text/plain": [
       "'52'"
      ]
     },
     "execution_count": 27,
     "metadata": {},
     "output_type": "execute_result"
    }
   ],
   "source": [
    "refinedSelloutData[\"WEEK\"].max()"
   ]
  },
  {
   "cell_type": "code",
   "execution_count": 28,
   "metadata": {
    "scrolled": false
   },
   "outputs": [
    {
     "data": {
      "text/html": [
       "<div>\n",
       "<style scoped>\n",
       "    .dataframe tbody tr th:only-of-type {\n",
       "        vertical-align: middle;\n",
       "    }\n",
       "\n",
       "    .dataframe tbody tr th {\n",
       "        vertical-align: top;\n",
       "    }\n",
       "\n",
       "    .dataframe thead th {\n",
       "        text-align: right;\n",
       "    }\n",
       "</style>\n",
       "<table border=\"1\" class=\"dataframe\">\n",
       "  <thead>\n",
       "    <tr style=\"text-align: right;\">\n",
       "      <th></th>\n",
       "      <th>REGIONID</th>\n",
       "      <th>PRODUCT</th>\n",
       "      <th>YEARWEEK</th>\n",
       "      <th>QTY</th>\n",
       "      <th>QTY_NEW</th>\n",
       "      <th>YEAR</th>\n",
       "      <th>WEEK</th>\n",
       "    </tr>\n",
       "  </thead>\n",
       "  <tbody>\n",
       "    <tr>\n",
       "      <th>0</th>\n",
       "      <td>A60</td>\n",
       "      <td>PRODUCT4</td>\n",
       "      <td>201402</td>\n",
       "      <td>71.0</td>\n",
       "      <td>71.0</td>\n",
       "      <td>2014</td>\n",
       "      <td>02</td>\n",
       "    </tr>\n",
       "  </tbody>\n",
       "</table>\n",
       "</div>"
      ],
      "text/plain": [
       "  REGIONID   PRODUCT YEARWEEK   QTY  QTY_NEW  YEAR WEEK\n",
       "0      A60  PRODUCT4   201402  71.0     71.0  2014   02"
      ]
     },
     "execution_count": 28,
     "metadata": {},
     "output_type": "execute_result"
    }
   ],
   "source": [
    "refinedSelloutData.head(1)"
   ]
  },
  {
   "cell_type": "code",
   "execution_count": 29,
   "metadata": {},
   "outputs": [],
   "source": [
    "#실습2-2, WEEK 가 52 이하인 데이터 조회 후 refinedSelloutData 변수에 담기 \n",
    "selloutData[\"WEEK\"] = selloutData[\"WEEK\"].astype(float)"
   ]
  },
  {
   "cell_type": "code",
   "execution_count": 30,
   "metadata": {},
   "outputs": [
    {
     "data": {
      "text/html": [
       "<div>\n",
       "<style scoped>\n",
       "    .dataframe tbody tr th:only-of-type {\n",
       "        vertical-align: middle;\n",
       "    }\n",
       "\n",
       "    .dataframe tbody tr th {\n",
       "        vertical-align: top;\n",
       "    }\n",
       "\n",
       "    .dataframe thead th {\n",
       "        text-align: right;\n",
       "    }\n",
       "</style>\n",
       "<table border=\"1\" class=\"dataframe\">\n",
       "  <thead>\n",
       "    <tr style=\"text-align: right;\">\n",
       "      <th></th>\n",
       "      <th>REGIONID</th>\n",
       "      <th>PRODUCT</th>\n",
       "      <th>YEARWEEK</th>\n",
       "      <th>QTY</th>\n",
       "      <th>QTY_NEW</th>\n",
       "      <th>YEAR</th>\n",
       "      <th>WEEK</th>\n",
       "    </tr>\n",
       "  </thead>\n",
       "  <tbody>\n",
       "    <tr>\n",
       "      <th>0</th>\n",
       "      <td>A60</td>\n",
       "      <td>PRODUCT4</td>\n",
       "      <td>201402</td>\n",
       "      <td>71.0</td>\n",
       "      <td>71.0</td>\n",
       "      <td>2014</td>\n",
       "      <td>2.0</td>\n",
       "    </tr>\n",
       "  </tbody>\n",
       "</table>\n",
       "</div>"
      ],
      "text/plain": [
       "  REGIONID   PRODUCT YEARWEEK   QTY  QTY_NEW  YEAR  WEEK\n",
       "0      A60  PRODUCT4   201402  71.0     71.0  2014   2.0"
      ]
     },
     "execution_count": 30,
     "metadata": {},
     "output_type": "execute_result"
    }
   ],
   "source": [
    "refinedData = selloutData[(selloutData.WEEK <= 52)]\n",
    "refinedData.head(1)"
   ]
  },
  {
   "cell_type": "code",
   "execution_count": 31,
   "metadata": {},
   "outputs": [
    {
     "data": {
      "text/plain": [
       "REGIONID     object\n",
       "PRODUCT      object\n",
       "YEARWEEK     object\n",
       "QTY         float64\n",
       "QTY_NEW     float64\n",
       "YEAR         object\n",
       "WEEK        float64\n",
       "dtype: object"
      ]
     },
     "execution_count": 31,
     "metadata": {},
     "output_type": "execute_result"
    }
   ],
   "source": [
    "selloutData.dtypes"
   ]
  },
  {
   "cell_type": "code",
   "execution_count": null,
   "metadata": {},
   "outputs": [],
   "source": []
  }
 ],
 "metadata": {
  "kernelspec": {
   "display_name": "Python 3",
   "language": "python",
   "name": "python3"
  },
  "language_info": {
   "codemirror_mode": {
    "name": "ipython",
    "version": 3
   },
   "file_extension": ".py",
   "mimetype": "text/x-python",
   "name": "python",
   "nbconvert_exporter": "python",
   "pygments_lexer": "ipython3",
   "version": "3.7.1"
  }
 },
 "nbformat": 4,
 "nbformat_minor": 2
}
