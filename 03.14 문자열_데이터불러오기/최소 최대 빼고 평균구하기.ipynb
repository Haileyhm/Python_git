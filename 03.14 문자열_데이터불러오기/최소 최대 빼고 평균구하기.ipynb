{
 "cells": [
  {
   "cell_type": "markdown",
   "metadata": {},
   "source": [
    "#"
   ]
  },
  {
   "cell_type": "code",
   "execution_count": null,
   "metadata": {},
   "outputs": [],
   "source": [
    "putBas = [120, 150, 300, 500, 1000, 100, 2000]"
   ]
  },
  {
   "cell_type": "markdown",
   "metadata": {},
   "source": [
    "## 1.min/max_del "
   ]
  },
  {
   "cell_type": "code",
   "execution_count": 17,
   "metadata": {},
   "outputs": [
    {
     "name": "stdout",
     "output_type": "stream",
     "text": [
      "[120, 150, 300, 500, 1000, 100]\n"
     ]
    }
   ],
   "source": [
    "maxB = max(putBas)\n",
    "maxLen = putBas.index(maxB) #len은 길이=자릿수\n",
    "del putBas[maxLen] \n",
    "print(putBas)"
   ]
  },
  {
   "cell_type": "code",
   "execution_count": 18,
   "metadata": {},
   "outputs": [
    {
     "name": "stdout",
     "output_type": "stream",
     "text": [
      "[120, 150, 300, 500, 1000]\n"
     ]
    }
   ],
   "source": [
    "minB = min(putBas)\n",
    "minLen = putBas.index(minB)\n",
    "del putBas[minLen]\n",
    "print(putBas)"
   ]
  },
  {
   "cell_type": "code",
   "execution_count": 19,
   "metadata": {},
   "outputs": [
    {
     "name": "stdout",
     "output_type": "stream",
     "text": [
      "414.0\n"
     ]
    }
   ],
   "source": [
    "average= sum(putBas) / len(putBas)\n",
    "print(average)"
   ]
  },
  {
   "cell_type": "markdown",
   "metadata": {},
   "source": [
    "## 2.remove"
   ]
  },
  {
   "cell_type": "code",
   "execution_count": 5,
   "metadata": {},
   "outputs": [
    {
     "name": "stdout",
     "output_type": "stream",
     "text": [
      "414.0\n"
     ]
    }
   ],
   "source": [
    "putBas = [120, 150, 300, 500, 1000, 100, 2000]\n",
    "minB = min(putBas)\n",
    "maxB = max(putBas)\n",
    "putBas.remove(minB)\n",
    "putBas.remove(maxB)\n",
    "\n",
    "average= sum(putBas)/len(putBas)\n",
    "print(average)"
   ]
  },
  {
   "cell_type": "markdown",
   "metadata": {},
   "source": [
    "## 3.sort"
   ]
  },
  {
   "cell_type": "code",
   "execution_count": 6,
   "metadata": {},
   "outputs": [
    {
     "name": "stdout",
     "output_type": "stream",
     "text": [
      "414.0\n"
     ]
    }
   ],
   "source": [
    "#시간이 많이 걸릴 수 있어\n",
    "\n",
    "putBas = [120, 150, 300, 500, 1000, 100, 2000]\n",
    "putBas.sort(reverse = False)\n",
    "del putBas[0]\n",
    "del putBas[len(putBas)-1]  # -> putBas.pop() 도 됨\n",
    "\n",
    "\n",
    "average= sum(putBas)/len(putBas)\n",
    "print(average)"
   ]
  },
  {
   "cell_type": "code",
   "execution_count": null,
   "metadata": {},
   "outputs": [],
   "source": []
  }
 ],
 "metadata": {
  "kernelspec": {
   "display_name": "Python 3",
   "language": "python",
   "name": "python3"
  },
  "language_info": {
   "codemirror_mode": {
    "name": "ipython",
    "version": 3
   },
   "file_extension": ".py",
   "mimetype": "text/x-python",
   "name": "python",
   "nbconvert_exporter": "python",
   "pygments_lexer": "ipython3",
   "version": "3.7.1"
  }
 },
 "nbformat": 4,
 "nbformat_minor": 2
}
